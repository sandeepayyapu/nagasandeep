{
  "nbformat": 4,
  "nbformat_minor": 0,
  "metadata": {
    "colab": {
      "provenance": []
    },
    "kernelspec": {
      "name": "python3",
      "display_name": "Python 3"
    },
    "language_info": {
      "name": "python"
    }
  },
  "cells": [
    {
      "cell_type": "code",
      "source": [
        "# !...common function for list\n"
      ],
      "metadata": {
        "id": "pqF_fLyjNkjF"
      },
      "execution_count": null,
      "outputs": []
    },
    {
      "cell_type": "code",
      "source": [
        "l1= [6,7,8,9,0]\n",
        "print(len(l1))"
      ],
      "metadata": {
        "colab": {
          "base_uri": "https://localhost:8080/"
        },
        "id": "qlRhYVgMOtkT",
        "outputId": "69e8724b-bd7c-484e-fa34-3eba9556fc60"
      },
      "execution_count": null,
      "outputs": [
        {
          "output_type": "stream",
          "name": "stdout",
          "text": [
            "5\n"
          ]
        }
      ]
    },
    {
      "cell_type": "code",
      "source": [
        "print(max(l1))\n",
        "print(min(l1))\n"
      ],
      "metadata": {
        "id": "TWyiBvBbPYOU"
      },
      "execution_count": null,
      "outputs": []
    },
    {
      "cell_type": "code",
      "source": [
        "l1 = [6,8,9,\"p\", \"u\"]\n",
        "print(max(l1)) # ---> error coz its a combination of int and string\n",
        "print(min(l1)) #---> error coz its a combination oh int  and string"
      ],
      "metadata": {
        "id": "HhsxenaqPioB"
      },
      "execution_count": null,
      "outputs": []
    },
    {
      "cell_type": "code",
      "source": [
        "l1 = [6,7,8,9,0,8.89,-5,0.78]\n",
        "print"
      ],
      "metadata": {
        "id": "RcjDGy2zP2Je"
      },
      "execution_count": null,
      "outputs": []
    },
    {
      "cell_type": "code",
      "source": [
        "#! ... some function  which is specifically used for list\n",
        "# TO add element inside list\n",
        "# ? insert (index_valu , element)--> to add element at specifi index positionM"
      ],
      "metadata": {
        "id": "1as7t30uRao0"
      },
      "execution_count": null,
      "outputs": []
    },
    {
      "cell_type": "code",
      "source": [
        "l1= [6,6,6,7,8,9,0,8.89,-5,0.78]\n",
        "l1.insert(2, \" cars\")\n",
        "print(l1)"
      ],
      "metadata": {
        "colab": {
          "base_uri": "https://localhost:8080/"
        },
        "id": "4YYaNgYWSJeW",
        "outputId": "0cd4812c-0d83-4d84-eb7f-03fee7d9e97b"
      },
      "execution_count": null,
      "outputs": [
        {
          "output_type": "stream",
          "name": "stdout",
          "text": [
            "[6, 6, ' cars', 6, 7, 8, 9, 0, 8.89, -5, 0.78]\n"
          ]
        }
      ]
    },
    {
      "cell_type": "code",
      "source": [
        "#? To delet element form thr list\n",
        "#..pop()...> last element will be deleted"
      ],
      "metadata": {
        "id": "QFwIIm80Sclr"
      },
      "execution_count": null,
      "outputs": []
    },
    {
      "cell_type": "code",
      "source": [
        "l1= [6,6,6,7,8,9,0,8.89,-5,0.78]\n",
        "l1.pop()\n",
        "print(l1)"
      ],
      "metadata": {
        "colab": {
          "base_uri": "https://localhost:8080/"
        },
        "id": "Fu3VZvmFStZV",
        "outputId": "9c5b0a64-66ab-4885-93c8-c25153b877b4"
      },
      "execution_count": null,
      "outputs": [
        {
          "output_type": "stream",
          "name": "stdout",
          "text": [
            "[6, 6, 6, 7, 8, 9, 0, 8.89, -5]\n"
          ]
        }
      ]
    },
    {
      "cell_type": "code",
      "source": [
        "# pop(index_valu)--> used to delet element t specifi index"
      ],
      "metadata": {
        "id": "MmTVMssJS2f7"
      },
      "execution_count": null,
      "outputs": []
    },
    {
      "cell_type": "code",
      "source": [
        "l1.pop(4)\n",
        "print(l1)"
      ],
      "metadata": {
        "colab": {
          "base_uri": "https://localhost:8080/"
        },
        "id": "69-mPbf3TGiz",
        "outputId": "89d4cffb-4aa0-4d76-b011-3758b64722ea"
      },
      "execution_count": null,
      "outputs": [
        {
          "output_type": "stream",
          "name": "stdout",
          "text": [
            "[6, 6, 6, 7, 9, 0, 8.89, -5]\n"
          ]
        }
      ]
    },
    {
      "cell_type": "code",
      "source": [
        "#* remove(element)--> used to delet element directly"
      ],
      "metadata": {
        "id": "DpSJ0d1hTy62"
      },
      "execution_count": null,
      "outputs": []
    },
    {
      "cell_type": "code",
      "source": [
        "l1.remove(8.89)\n",
        "print(l1)"
      ],
      "metadata": {
        "colab": {
          "base_uri": "https://localhost:8080/"
        },
        "id": "xf1VM8lmUIZT",
        "outputId": "9f465dd1-83ff-4380-90eb-270775d373db"
      },
      "execution_count": null,
      "outputs": [
        {
          "output_type": "stream",
          "name": "stdout",
          "text": [
            "[6, 6, 6, 7, 9, 0, -5]\n"
          ]
        }
      ]
    },
    {
      "cell_type": "code",
      "source": [
        " # clear()--> to complete delet the element in list"
      ],
      "metadata": {
        "id": "edPMe1zNVEcL"
      },
      "execution_count": null,
      "outputs": []
    },
    {
      "cell_type": "code",
      "source": [
        "l1.clear()\n",
        "print(l1)"
      ],
      "metadata": {
        "colab": {
          "base_uri": "https://localhost:8080/"
        },
        "id": "5vb52g7lUoxF",
        "outputId": "2a13e0c2-00d6-44ba-d181-9891e6495657"
      },
      "execution_count": null,
      "outputs": [
        {
          "output_type": "stream",
          "name": "stdout",
          "text": [
            "[]\n"
          ]
        }
      ]
    },
    {
      "cell_type": "code",
      "source": [
        "#* delet--> tol delet the list"
      ],
      "metadata": {
        "id": "O_-GyIvJVIRu"
      },
      "execution_count": null,
      "outputs": []
    },
    {
      "cell_type": "code",
      "source": [
        "del l1\n",
        "print(l1)"
      ],
      "metadata": {
        "id": "z_jaWMRCU_Ne"
      },
      "execution_count": null,
      "outputs": []
    },
    {
      "cell_type": "code",
      "source": [
        "# ?---> join 2 list"
      ],
      "metadata": {
        "id": "ahzbPlCdVUI5"
      },
      "execution_count": null,
      "outputs": []
    },
    {
      "cell_type": "code",
      "source": [
        "l1=[9,0,8]\n",
        "l2=[\"p\",\"o\",\"t\", 34]\n",
        "print(l1+l2)"
      ],
      "metadata": {
        "colab": {
          "base_uri": "https://localhost:8080/"
        },
        "id": "i6N97a7WVci1",
        "outputId": "cc207b6b-48db-4830-fcaa-c4a15555362f"
      },
      "execution_count": null,
      "outputs": [
        {
          "output_type": "stream",
          "name": "stdout",
          "text": [
            "[9, 0, 8, 'p', 'o', 't', 34]\n"
          ]
        }
      ]
    },
    {
      "cell_type": "code",
      "source": [
        "# externd()-->to combine 2 list"
      ],
      "metadata": {
        "id": "wtE8_j8TV2YY"
      },
      "execution_count": null,
      "outputs": []
    },
    {
      "cell_type": "code",
      "source": [
        " l1 extend(12)\n",
        "  print(l1 )"
      ],
      "metadata": {
        "colab": {
          "base_uri": "https://localhost:8080/",
          "height": 108
        },
        "id": "ZeTj6m-oWLJC",
        "outputId": "bcd1ac31-e1ef-41c6-c079-6488c77a0bc4"
      },
      "execution_count": null,
      "outputs": [
        {
          "output_type": "error",
          "ename": "SyntaxError",
          "evalue": "invalid syntax (<ipython-input-18-9ab8613f7be2>, line 1)",
          "traceback": [
            "\u001b[0;36m  File \u001b[0;32m\"<ipython-input-18-9ab8613f7be2>\"\u001b[0;36m, line \u001b[0;32m1\u001b[0m\n\u001b[0;31m    l1 extend(12)\u001b[0m\n\u001b[0m       ^\u001b[0m\n\u001b[0;31mSyntaxError\u001b[0m\u001b[0;31m:\u001b[0m invalid syntax\n"
          ]
        }
      ]
    },
    {
      "cell_type": "code",
      "source": [
        "#?---> copy()"
      ],
      "metadata": {
        "id": "GX_V7GvXWtRm"
      },
      "execution_count": null,
      "outputs": []
    },
    {
      "cell_type": "code",
      "source": [
        "l1= [6,7,8,9,3]\n",
        "l2=l1.copy\n",
        "print(12)\n",
        "print(11)"
      ],
      "metadata": {
        "colab": {
          "base_uri": "https://localhost:8080/"
        },
        "id": "1a6evS55WxyR",
        "outputId": "271849fb-bab2-4b54-98cb-3aea84b60b24"
      },
      "execution_count": null,
      "outputs": [
        {
          "output_type": "stream",
          "name": "stdout",
          "text": [
            "12\n",
            "11\n"
          ]
        }
      ]
    },
    {
      "cell_type": "code",
      "source": [
        "print(id(l1))\n",
        "print(id(l2))"
      ],
      "metadata": {
        "colab": {
          "base_uri": "https://localhost:8080/"
        },
        "id": "KK7h05eKXPpU",
        "outputId": "dc8f0b86-fc8c-405e-8230-6d1803a4dea0"
      },
      "execution_count": null,
      "outputs": [
        {
          "output_type": "stream",
          "name": "stdout",
          "text": [
            "138529137069632\n",
            "138528064647424\n"
          ]
        }
      ]
    },
    {
      "cell_type": "code",
      "source": [
        "#! diff beteween the shallow copy ans deep copy\n",
        "# shallow copy\n",
        "import copy"
      ],
      "metadata": {
        "id": "hpja7OpjXbNJ"
      },
      "execution_count": null,
      "outputs": []
    },
    {
      "cell_type": "code",
      "source": [
        "import copy\n",
        "l1 = [8,9,0,[5,6],[3,2,1]]\n",
        "l2 =  copy. copy(11)\n",
        "l1.append\n",
        "print(l1)"
      ],
      "metadata": {
        "colab": {
          "base_uri": "https://localhost:8080/"
        },
        "id": "2jXEMx_XYXrV",
        "outputId": "2000d6b1-0b87-4951-cf68-41c4fb69ad6d"
      },
      "execution_count": null,
      "outputs": [
        {
          "output_type": "stream",
          "name": "stdout",
          "text": [
            "[8, 9, 0, [5, 6], [3, 2, 1]]\n"
          ]
        }
      ]
    },
    {
      "cell_type": "code",
      "source": [
        "# * deep copy---> used to copy the list with nested list"
      ],
      "metadata": {
        "id": "9nzjozIVZlhD"
      },
      "execution_count": null,
      "outputs": []
    },
    {
      "cell_type": "code",
      "source": [
        "import copy\n",
        "l1=[8,9,0,[5,6],[3,2,1]]\n",
        "print(l1[-1][1])"
      ],
      "metadata": {
        "colab": {
          "base_uri": "https://localhost:8080/"
        },
        "id": "0QUIXL19ZqaA",
        "outputId": "285cacce-c2c3-48c3-a748-76520cce7ec8"
      },
      "execution_count": null,
      "outputs": [
        {
          "output_type": "stream",
          "name": "stdout",
          "text": [
            "2\n"
          ]
        }
      ]
    },
    {
      "cell_type": "code",
      "source": [
        "import copy\n",
        "l1=[8,9,0,[5,6],[3,2,1]]\n",
        "print(l1[-1][1])\n",
        "l2= copy.copy(11)\n",
        "l1[-1].append('cars')\n",
        "print(l1)\n",
        "print(l2)"
      ],
      "metadata": {
        "colab": {
          "base_uri": "https://localhost:8080/"
        },
        "id": "M2n5O9XWZ-W8",
        "outputId": "f5d5f514-ad65-4caf-8a4f-d1d7ff330ff1"
      },
      "execution_count": null,
      "outputs": [
        {
          "output_type": "stream",
          "name": "stdout",
          "text": [
            "2\n",
            "[8, 9, 0, [5, 6], [3, 2, 1, 'cars']]\n",
            "11\n"
          ]
        }
      ]
    },
    {
      "cell_type": "code",
      "source": [
        "import copy\n",
        "l1=[8,9,0,[5,6],[3,2,1]]\n",
        "print(l1[-1][1])\n",
        "l2= copy.deepcopy(11)\n",
        "l1[-1].append('cars')\n",
        "print(l1)\n",
        "print(l2)"
      ],
      "metadata": {
        "colab": {
          "base_uri": "https://localhost:8080/"
        },
        "id": "_obqvNACaZjc",
        "outputId": "5dfe73bb-a946-4776-8be7-5e193d7793fe"
      },
      "execution_count": null,
      "outputs": [
        {
          "output_type": "stream",
          "name": "stdout",
          "text": [
            "2\n",
            "[8, 9, 0, [5, 6], [3, 2, 1, 'cars']]\n",
            "11\n"
          ]
        }
      ]
    },
    {
      "cell_type": "code",
      "source": [
        "#> sort--> arrange elements in list in ascending or deascending  order"
      ],
      "metadata": {
        "id": "6mXwJ2sVapbd"
      },
      "execution_count": null,
      "outputs": []
    },
    {
      "cell_type": "code",
      "source": [
        "l1= [9,7,45,0,-6,5,12]\n",
        "l1.sort()\n",
        "print(l1)"
      ],
      "metadata": {
        "colab": {
          "base_uri": "https://localhost:8080/"
        },
        "id": "klucKWjDbPm2",
        "outputId": "9d38f5eb-b590-45c7-f940-76af05c1d9d7"
      },
      "execution_count": null,
      "outputs": [
        {
          "output_type": "stream",
          "name": "stdout",
          "text": [
            "[-6, 0, 5, 7, 9, 12, 45]\n"
          ]
        }
      ]
    },
    {
      "cell_type": "code",
      "source": [
        "l1= [9,7,45,0,-6,5,12]\n",
        "l1.sort(reverse= True)\n",
        "print(l1)"
      ],
      "metadata": {
        "colab": {
          "base_uri": "https://localhost:8080/"
        },
        "id": "oLC7y6j2bePk",
        "outputId": "2d0b5fed-62cd-4721-d64e-a5fc68ae36fa"
      },
      "execution_count": null,
      "outputs": [
        {
          "output_type": "stream",
          "name": "stdout",
          "text": [
            "[45, 12, 9, 7, 5, 0, -6]\n"
          ]
        }
      ]
    },
    {
      "cell_type": "code",
      "source": [
        "# l1.sort(reverse= True) # to sort in descending order"
      ],
      "metadata": {
        "id": "SROn6P1Kbsdm"
      },
      "execution_count": null,
      "outputs": []
    },
    {
      "cell_type": "code",
      "source": [
        "l1= ['z','i','o','p' ,9]\n",
        "l1.sort()\n",
        "print(l1)"
      ],
      "metadata": {
        "id": "S3TOBGq2cXXj"
      },
      "execution_count": null,
      "outputs": []
    },
    {
      "cell_type": "code",
      "source": [
        "#? list constructor"
      ],
      "metadata": {
        "id": "VpP5OO_Bcsyy"
      },
      "execution_count": null,
      "outputs": []
    },
    {
      "cell_type": "code",
      "source": [
        " list()\n",
        " l3=((8,9,0))\n",
        " print(list(l3))"
      ],
      "metadata": {
        "colab": {
          "base_uri": "https://localhost:8080/"
        },
        "id": "BFymGTfGc21G",
        "outputId": "d1049156-ff42-45d9-f079-7388d99f0f6d"
      },
      "execution_count": null,
      "outputs": [
        {
          "output_type": "stream",
          "name": "stdout",
          "text": [
            "[8, 9, 0]\n"
          ]
        }
      ]
    },
    {
      "cell_type": "code",
      "source": [
        "l4=(8,9)\n",
        "print(list(l4))"
      ],
      "metadata": {
        "colab": {
          "base_uri": "https://localhost:8080/"
        },
        "id": "Rbkw45XRdEl9",
        "outputId": "aac616ba-bf93-4665-e6bc-1bd8a452e064"
      },
      "execution_count": null,
      "outputs": [
        {
          "output_type": "stream",
          "name": "stdout",
          "text": [
            "[8, 9]\n"
          ]
        }
      ]
    },
    {
      "cell_type": "code",
      "source": [
        "# !----> nested list"
      ],
      "metadata": {
        "id": "UhtvgiPqdia5"
      },
      "execution_count": null,
      "outputs": []
    },
    {
      "cell_type": "code",
      "source": [
        "l1=[8,9,[0,8,7],[\"p\",\"o\",\"y\"], [8,'t']]\n",
        "print(l1[-2][1])"
      ],
      "metadata": {
        "colab": {
          "base_uri": "https://localhost:8080/"
        },
        "id": "ejje_BnkdvJA",
        "outputId": "492b583f-5633-4782-b0e9-db0d9ec211b0"
      },
      "execution_count": null,
      "outputs": [
        {
          "output_type": "stream",
          "name": "stdout",
          "text": [
            "o\n"
          ]
        }
      ]
    },
    {
      "cell_type": "code",
      "source": [
        "print(l1[1:4])"
      ],
      "metadata": {
        "colab": {
          "base_uri": "https://localhost:8080/"
        },
        "id": "BWEIXKFTeXDw",
        "outputId": "d48d97fa-c945-4ea0-bd7d-52af4a71817b"
      },
      "execution_count": null,
      "outputs": [
        {
          "output_type": "stream",
          "name": "stdout",
          "text": [
            "[9, [0, 8, 7], ['p', 'o', 'y']]\n"
          ]
        }
      ]
    },
    {
      "cell_type": "code",
      "source": [
        "print(l1[1:-1])"
      ],
      "metadata": {
        "colab": {
          "base_uri": "https://localhost:8080/"
        },
        "id": "eNX1PCfwezVq",
        "outputId": "ad5c7572-2758-478a-d11f-b3cc8c8e81e2"
      },
      "execution_count": null,
      "outputs": [
        {
          "output_type": "stream",
          "name": "stdout",
          "text": [
            "[9, [0, 8, 7], ['p', 'o', 'y']]\n"
          ]
        }
      ]
    },
    {
      "cell_type": "code",
      "source": [
        "l1=[8,9,[0,8,7],[\"p\",\"o\",\"y\"], [8,'t']]\n",
        "l1[-1].remove('t')\n",
        "print(l1)"
      ],
      "metadata": {
        "colab": {
          "base_uri": "https://localhost:8080/"
        },
        "id": "1CQEtKVYe4zW",
        "outputId": "50226393-e579-4dd2-f516-681473d9cbbf"
      },
      "execution_count": null,
      "outputs": [
        {
          "output_type": "stream",
          "name": "stdout",
          "text": [
            "[8, 9, [0, 8, 7], ['p', 'o', 'y'], [8]]\n"
          ]
        }
      ]
    },
    {
      "cell_type": "code",
      "source": [
        "# ? combine these [\"p\",\"o\",\"y\"],[8,'t'] lists in l1 to[\"p\",\"o\",\"y\",8,'t']"
      ],
      "metadata": {
        "id": "M0LNdiiagtvJ"
      },
      "execution_count": null,
      "outputs": []
    },
    {
      "cell_type": "code",
      "source": [
        "l1[-2].extend(l1[-1])\n",
        "l1.pop(-1)\n",
        "print(l1)"
      ],
      "metadata": {
        "colab": {
          "base_uri": "https://localhost:8080/"
        },
        "id": "tDrGiY2rhCH9",
        "outputId": "b87562f4-66af-418a-880a-72862b2d5b96"
      },
      "execution_count": null,
      "outputs": [
        {
          "output_type": "stream",
          "name": "stdout",
          "text": [
            "[8, 9, [0, 8, 7], ['p', 'o', 'y', 8]]\n"
          ]
        }
      ]
    },
    {
      "cell_type": "code",
      "source": [
        "# !-----> tuple\n",
        " #* char of tuple\n"
      ],
      "metadata": {
        "id": "dzKbf7tSjCJY"
      },
      "execution_count": null,
      "outputs": []
    },
    {
      "cell_type": "code",
      "source": [
        "#1.) Tuple have to be surrounded by()\n",
        "#2.) The element inside tuple are not changlable\n",
        "#3.) the element inside tuple are indexed\n",
        "#4.) The element will execute in order\n",
        "#5.) It is heterogenous\n",
        "#6.) IT allows duplicate elements"
      ],
      "metadata": {
        "id": "2mAPZ4F6jXTV"
      },
      "execution_count": null,
      "outputs": []
    },
    {
      "cell_type": "code",
      "source": [
        "t1= (8,8,9,6,5.78,[9,0],[6,8],\"hey\",9+6j)\n",
        "print(t1)\n",
        "print(type(t1))"
      ],
      "metadata": {
        "colab": {
          "base_uri": "https://localhost:8080/"
        },
        "id": "6bTJ3btPkOkU",
        "outputId": "1ab15713-15db-4be1-8612-f3747127798a"
      },
      "execution_count": null,
      "outputs": [
        {
          "output_type": "stream",
          "name": "stdout",
          "text": [
            "(8, 8, 9, 6, 5.78, [9, 0], [6, 8], 'hey', (9+6j))\n",
            "<class 'tuple'>\n"
          ]
        }
      ]
    },
    {
      "cell_type": "code",
      "source": [
        "# indexing , slicing are all same as list\n"
      ],
      "metadata": {
        "id": "WxiyJ08-komu"
      },
      "execution_count": null,
      "outputs": []
    },
    {
      "cell_type": "code",
      "source": [
        "t2= 8,\n",
        "print(type(t2))"
      ],
      "metadata": {
        "colab": {
          "base_uri": "https://localhost:8080/"
        },
        "id": "nr66iF3BsV6W",
        "outputId": "3f249e2f-5dbc-4f9e-b8f9-59f7006acc31"
      },
      "execution_count": null,
      "outputs": [
        {
          "output_type": "stream",
          "name": "stdout",
          "text": [
            "<class 'tuple'>\n"
          ]
        }
      ]
    },
    {
      "cell_type": "code",
      "source": [
        "t1=8,9\n",
        "print(type(t1))"
      ],
      "metadata": {
        "colab": {
          "base_uri": "https://localhost:8080/"
        },
        "id": "NNNdFxX8so-U",
        "outputId": "b4fe3058-77f8-47d7-be72-5d6f10302421"
      },
      "execution_count": null,
      "outputs": [
        {
          "output_type": "stream",
          "name": "stdout",
          "text": [
            "<class 'tuple'>\n"
          ]
        }
      ]
    },
    {
      "cell_type": "code",
      "source": [
        "l1=(8,)\n",
        "print(type(l1))\n"
      ],
      "metadata": {
        "colab": {
          "base_uri": "https://localhost:8080/"
        },
        "id": "KAkm5YNFtN9m",
        "outputId": "5c72deb6-af2e-40f7-e384-ed7fc4770678"
      },
      "execution_count": null,
      "outputs": [
        {
          "output_type": "stream",
          "name": "stdout",
          "text": [
            "<class 'tuple'>\n"
          ]
        }
      ]
    },
    {
      "cell_type": "code",
      "source": [
        "# len(), min(), max(),index(), count(),==> all same as list\n",
        "# to add element inside tuple---> cannot add\n",
        "# cannot delet any element from tuple\n"
      ],
      "metadata": {
        "id": "Phb3Ofdctaoj"
      },
      "execution_count": null,
      "outputs": []
    },
    {
      "cell_type": "code",
      "source": [
        "t1=(8,9,0)\n",
        "t2=(6,7,8)\n",
        "print(t1+t2)"
      ],
      "metadata": {
        "colab": {
          "base_uri": "https://localhost:8080/"
        },
        "id": "_9jWHUiQt8b8",
        "outputId": "ad0f91b5-8054-44be-cd2c-cd883d00d9bd"
      },
      "execution_count": null,
      "outputs": [
        {
          "output_type": "stream",
          "name": "stdout",
          "text": [
            "(8, 9, 0, 6, 7, 8)\n"
          ]
        }
      ]
    },
    {
      "cell_type": "code",
      "source": [
        "# to add all elements inside list\n",
        "# sum()"
      ],
      "metadata": {
        "id": "JCaG6VISuS5K"
      },
      "execution_count": null,
      "outputs": []
    },
    {
      "cell_type": "code",
      "source": [
        "l1=(8,9,7,6)\n",
        "print(suml1)"
      ],
      "metadata": {
        "id": "j_ciqM7Hug14"
      },
      "execution_count": null,
      "outputs": []
    },
    {
      "cell_type": "code",
      "source": [
        "t1= (8,9,0,89,12)\n",
        "print(tuple(sorted(t1)))"
      ],
      "metadata": {
        "colab": {
          "base_uri": "https://localhost:8080/"
        },
        "id": "40Vbhm-vu2sf",
        "outputId": "0650bf4e-8334-483b-9ed5-dfd36b025299"
      },
      "execution_count": null,
      "outputs": [
        {
          "output_type": "stream",
          "name": "stdout",
          "text": [
            "(0, 8, 9, 12, 89)\n"
          ]
        }
      ]
    },
    {
      "cell_type": "code",
      "source": [
        "# * Iterate list and tuples"
      ],
      "metadata": {
        "id": "0cTOaY5RwP5i"
      },
      "execution_count": null,
      "outputs": []
    },
    {
      "cell_type": "code",
      "source": [
        "# * Iterte based on elements"
      ],
      "metadata": {
        "id": "MjiNmDDmyUX4"
      },
      "execution_count": null,
      "outputs": []
    },
    {
      "cell_type": "code",
      "source": [
        "l1= (9,8,0,6,5)\n",
        "for i in l1:\n",
        "  print(i)"
      ],
      "metadata": {
        "colab": {
          "base_uri": "https://localhost:8080/"
        },
        "id": "WkPOnd2rwXUy",
        "outputId": "90c1fac5-1710-438c-9c8f-359a0c488ae7"
      },
      "execution_count": null,
      "outputs": [
        {
          "output_type": "stream",
          "name": "stdout",
          "text": [
            "9\n",
            "8\n",
            "0\n",
            "6\n",
            "5\n"
          ]
        }
      ]
    },
    {
      "cell_type": "code",
      "source": [
        "# Iterate based on indexig valu"
      ],
      "metadata": {
        "id": "buHTQzqqwss4"
      },
      "execution_count": null,
      "outputs": []
    },
    {
      "cell_type": "code",
      "source": [
        "l1=[9,8,0,6,5]\n",
        "for i in range (0,5):\n",
        "    print(i)"
      ],
      "metadata": {
        "colab": {
          "base_uri": "https://localhost:8080/"
        },
        "id": "s2AuK390xd2S",
        "outputId": "3ba57eed-37d3-47f6-ca3b-50f0569161da"
      },
      "execution_count": null,
      "outputs": [
        {
          "output_type": "stream",
          "name": "stdout",
          "text": [
            "0\n",
            "1\n",
            "2\n",
            "3\n",
            "4\n"
          ]
        }
      ]
    },
    {
      "cell_type": "code",
      "source": [
        "l1=[9,8,0,6,5]\n",
        "for i in range (0,5):\n",
        "    print(i)"
      ],
      "metadata": {
        "id": "bOeZEPcKx0Sr",
        "colab": {
          "base_uri": "https://localhost:8080/"
        },
        "outputId": "3f3762f3-fb3f-4f0c-8e92-44d107bdad11"
      },
      "execution_count": null,
      "outputs": [
        {
          "output_type": "stream",
          "name": "stdout",
          "text": [
            "0\n",
            "1\n",
            "2\n",
            "3\n",
            "4\n"
          ]
        }
      ]
    },
    {
      "cell_type": "code",
      "source": [
        "#...!--->String"
      ],
      "metadata": {
        "id": "iXoql6dWDU57"
      },
      "execution_count": null,
      "outputs": []
    },
    {
      "cell_type": "code",
      "source": [
        "s1 = \"u\"\n",
        "print(type(s1))"
      ],
      "metadata": {
        "colab": {
          "base_uri": "https://localhost:8080/"
        },
        "id": "pUxLdMxfEnWe",
        "outputId": "29766a9e-4457-4aa1-df38-c802f2ff3690"
      },
      "execution_count": null,
      "outputs": [
        {
          "output_type": "stream",
          "name": "stdout",
          "text": [
            "<class 'str'>\n"
          ]
        }
      ]
    },
    {
      "cell_type": "code",
      "source": [
        "s1 = \"helloworld\"\n",
        "print(s1)"
      ],
      "metadata": {
        "colab": {
          "base_uri": "https://localhost:8080/"
        },
        "id": "a101h_NaEv3h",
        "outputId": "f1f97b10-8b99-48c4-cde0-cabbe8452f8e"
      },
      "execution_count": null,
      "outputs": [
        {
          "output_type": "stream",
          "name": "stdout",
          "text": [
            "helloworld\n"
          ]
        }
      ]
    },
    {
      "cell_type": "code",
      "source": [
        "s1 = \"helloworld\"\n",
        "print(s1[0:5])"
      ],
      "metadata": {
        "colab": {
          "base_uri": "https://localhost:8080/"
        },
        "id": "_vkPj4zcFalu",
        "outputId": "f95d0b59-8349-489e-8302-6c179f06bc03"
      },
      "execution_count": null,
      "outputs": [
        {
          "output_type": "stream",
          "name": "stdout",
          "text": [
            "hello\n"
          ]
        }
      ]
    },
    {
      "cell_type": "code",
      "source": [
        "#-----. some common function\n",
        "# len(), min(), mx(), index(), count()\n"
      ],
      "metadata": {
        "id": "COq7NjCHFgIn"
      },
      "execution_count": null,
      "outputs": []
    },
    {
      "cell_type": "code",
      "source": [
        "s1 = \"helloworld\"\n",
        "print(len(s1))\n",
        "print(max(s1))\n",
        "print(min(s1))"
      ],
      "metadata": {
        "colab": {
          "base_uri": "https://localhost:8080/"
        },
        "id": "cwm7CimbFmO-",
        "outputId": "ae0b29c6-57a4-4a97-bb03-84fb1cc3e0e0"
      },
      "execution_count": null,
      "outputs": [
        {
          "output_type": "stream",
          "name": "stdout",
          "text": [
            "10\n",
            "w\n",
            "d\n"
          ]
        }
      ]
    },
    {
      "cell_type": "code",
      "source": [
        "s1= 'u'\n",
        "print(ord(s1))"
      ],
      "metadata": {
        "colab": {
          "base_uri": "https://localhost:8080/"
        },
        "id": "Rk4phXBGGuRY",
        "outputId": "a35c2a6c-bd3f-4d7e-bf27-3cf21d8a0a3f"
      },
      "execution_count": null,
      "outputs": [
        {
          "output_type": "stream",
          "name": "stdout",
          "text": [
            "117\n"
          ]
        }
      ]
    },
    {
      "cell_type": "code",
      "source": [
        "# functions of straing\n",
        "s1= \" Hello world\""
      ],
      "metadata": {
        "id": "XK0cYa9fHLy7"
      },
      "execution_count": null,
      "outputs": []
    },
    {
      "cell_type": "code",
      "source": [
        "# ? to convert all characters to upper case\n",
        "print(s1.upper())"
      ],
      "metadata": {
        "id": "z2ZJ2SYxH74o"
      },
      "execution_count": null,
      "outputs": []
    },
    {
      "cell_type": "code",
      "source": [
        "s1= \" HFREDGious\"\n",
        "print(s1. lower())"
      ],
      "metadata": {
        "colab": {
          "base_uri": "https://localhost:8080/"
        },
        "id": "1YZ5bg_gH8D-",
        "outputId": "69acd6fe-252f-4e66-e6d6-2346b408e8ae"
      },
      "execution_count": null,
      "outputs": [
        {
          "output_type": "stream",
          "name": "stdout",
          "text": [
            " hfredgious\n"
          ]
        }
      ]
    },
    {
      "cell_type": "code",
      "source": [
        "# strip---. to element the space in beninning and end of string"
      ],
      "metadata": {
        "id": "ATWi644qH8O3"
      },
      "execution_count": null,
      "outputs": []
    },
    {
      "cell_type": "code",
      "source": [
        "s1 = \" Where are you\"\n",
        "print(s1.lstrip())"
      ],
      "metadata": {
        "colab": {
          "base_uri": "https://localhost:8080/"
        },
        "id": "7aEv2XwNH8aH",
        "outputId": "99550c56-c7ab-4bdf-9634-6ea39ea58e0b"
      },
      "execution_count": null,
      "outputs": [
        {
          "output_type": "stream",
          "name": "stdout",
          "text": [
            "Where are you\n"
          ]
        }
      ]
    },
    {
      "cell_type": "code",
      "source": [
        "s1= \" hey there dont sleep\"\n",
        "print(s1)"
      ],
      "metadata": {
        "colab": {
          "base_uri": "https://localhost:8080/"
        },
        "id": "diVGmKsGH8lO",
        "outputId": "0fcd1f73-e78a-43fc-f79a-e9eeafb4da02"
      },
      "execution_count": null,
      "outputs": [
        {
          "output_type": "stream",
          "name": "stdout",
          "text": [
            " hey there dont sleep\n"
          ]
        }
      ]
    },
    {
      "cell_type": "code",
      "source": [
        "s1 =\" where are you?\"\n",
        "print(s1.split(\" r \"))"
      ],
      "metadata": {
        "colab": {
          "base_uri": "https://localhost:8080/"
        },
        "id": "mzIXE48zH8wV",
        "outputId": "695ba93d-3fa1-4e4c-d687-df626caffc5a"
      },
      "execution_count": null,
      "outputs": [
        {
          "output_type": "stream",
          "name": "stdout",
          "text": [
            "[' where are you?']\n"
          ]
        }
      ]
    },
    {
      "cell_type": "code",
      "source": [
        "s1 = \" hey there dont sleep\"\n",
        "print(s1.split(\" e\"))"
      ],
      "metadata": {
        "colab": {
          "base_uri": "https://localhost:8080/"
        },
        "id": "R4VlE9aUH893",
        "outputId": "9848d153-821a-4fe6-f131-791844b7bc3d"
      },
      "execution_count": null,
      "outputs": [
        {
          "output_type": "stream",
          "name": "stdout",
          "text": [
            "[' hey there dont sleep']\n"
          ]
        }
      ]
    },
    {
      "cell_type": "code",
      "source": [
        "# split line function()----> uses=d to split the string based on line\n",
        "# print(s1. splitlines())\n"
      ],
      "metadata": {
        "id": "mcDpqOzvLTn4"
      },
      "execution_count": null,
      "outputs": []
    },
    {
      "cell_type": "code",
      "source": [
        "s1= \" hello world \"\n",
        "print(s1.find('z'))\n",
        "print(s1.index('z'))"
      ],
      "metadata": {
        "id": "8MZ5lj9FLTxI"
      },
      "execution_count": null,
      "outputs": []
    },
    {
      "cell_type": "code",
      "source": [
        "# print the strting in revese manner"
      ],
      "metadata": {
        "id": "wHoPZpk2LT4Q"
      },
      "execution_count": null,
      "outputs": []
    },
    {
      "cell_type": "code",
      "source": [
        "s1= \" welcome to all \"\n",
        "print(s1[::-1])"
      ],
      "metadata": {
        "colab": {
          "base_uri": "https://localhost:8080/"
        },
        "id": "98Au6E1tLT_c",
        "outputId": "265d7a91-f0fe-46b9-a5b4-3f6b3b81290a"
      },
      "execution_count": null,
      "outputs": [
        {
          "output_type": "stream",
          "name": "stdout",
          "text": [
            " lla ot emoclew \n"
          ]
        }
      ]
    },
    {
      "cell_type": "code",
      "source": [
        "s1=\" Hey there you are\"\n",
        "count=0\n",
        "for i in s1:\n",
        "      if i in lower():\n",
        "          count==1\n",
        "      print(\" The total number of lower case lette:\",count)"
      ],
      "metadata": {
        "id": "6TSXPX0SQM4b"
      },
      "execution_count": null,
      "outputs": []
    },
    {
      "cell_type": "code",
      "source": [
        "s1= 'restarter'\n",
        "s1= ' imgine'\n",
        "fst=s1[0]\n",
        "BAL= s1[1:]\n",
        "txt = bal.replace (fst, \"$\")\n",
        "print(fst+txt)"
      ],
      "metadata": {
        "id": "eB1lteyrQNFX"
      },
      "execution_count": null,
      "outputs": []
    },
    {
      "cell_type": "code",
      "source": [
        "s1=Lorem Ipsum is simply dummy text of the printing and typesetting industry. Lorem Ipsum has been the industry's standard dummy text ever since the 1500s, when an unknown printer took a galley of type and scrambled it to make a type specimen book. It has survived not only five centuries, but also the leap into electro nic typesetting,  remaining  essentially unchanged. It was popularised in the 1960s with the release of Letraset sheets containing Lorem Ipsum passages, and more recently with desktop publishing software like Aldus PageMaker including versions of Lorem Ipsum.\n",
        "characters=len(s1)\n",
        "print(characters )"
      ],
      "metadata": {
        "id": "nf_MDjatQNSe"
      },
      "execution_count": null,
      "outputs": []
    },
    {
      "cell_type": "code",
      "source": [
        "s1 = \"Lorem Ipsum is simply dummy text of the printing and typesetting industry. Lorem Ipsum has been the industry's standard dummy text ever since the 1500s, when an unknown printer took a galley of type and scrambled it to make a type specimen book. It has survived not only five centuries, but also the leap into electro nic typesetting,  remaining  essentially unchanged. It was popularised in the 1960s with the release of Letraset sheets containing Lorem Ipsum passages, and more recently with desktop publishing software like Aldus PageMaker including versions of Lorem Ipsum\".\n",
        "sentensens = s1.split('.')\n",
        "for val in senstenses:\n",
        "   if val == '':\n",
        "    index = sentensens. index('')\n",
        "    senstenses.pop(index)\n",
        "ptint(len(sentensens))"
      ],
      "metadata": {
        "id": "1hXqC6VMQNa2",
        "colab": {
          "base_uri": "https://localhost:8080/",
          "height": 216
        },
        "outputId": "653ecb32-b5f8-4306-b0d1-fd43bef3e061"
      },
      "execution_count": 50,
      "outputs": [
        {
          "output_type": "error",
          "ename": "SyntaxError",
          "evalue": "invalid syntax (<ipython-input-50-f305cfbf5b2a>, line 1)",
          "traceback": [
            "\u001b[0;36m  File \u001b[0;32m\"<ipython-input-50-f305cfbf5b2a>\"\u001b[0;36m, line \u001b[0;32m1\u001b[0m\n\u001b[0;31m    s1 = \"Lorem Ipsum is simply dummy text of the printing and typesetting industry. Lorem Ipsum has been the industry's standard dummy text ever since the 1500s, when an unknown printer took a galley of type and scrambled it to make a type specimen book. It has survived not only five centuries, but also the leap into electro nic typesetting,  remaining  essentially unchanged. It was popularised in the 1960s with the release of Letraset sheets containing Lorem Ipsum passages, and more recently with desktop publishing software like Aldus PageMaker including versions of Lorem Ipsum\".\u001b[0m\n\u001b[0m                                                                                                                                                                                                                                                                                                                                                                                                                                                                                                                                                                                                            ^\u001b[0m\n\u001b[0;31mSyntaxError\u001b[0m\u001b[0;31m:\u001b[0m invalid syntax\n"
          ]
        }
      ]
    },
    {
      "cell_type": "code",
      "source": [
        "space = 0\n",
        "for val in s1:\n",
        "  if val ==\" \":\n",
        "     space = space+1\n",
        "print(space)"
      ],
      "metadata": {
        "colab": {
          "base_uri": "https://localhost:8080/"
        },
        "id": "GxOssnB-pkpr",
        "outputId": "fd22417f-0fd8-4e9f-db68-a1cdfcc59472"
      },
      "execution_count": 51,
      "outputs": [
        {
          "output_type": "stream",
          "name": "stdout",
          "text": [
            "1\n"
          ]
        }
      ]
    }
  ]
}